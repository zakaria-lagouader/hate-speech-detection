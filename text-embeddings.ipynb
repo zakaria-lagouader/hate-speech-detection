{
 "cells": [
  {
   "cell_type": "code",
   "execution_count": null,
   "metadata": {},
   "outputs": [],
   "source": [
    "from transformers import AutoTokenizer, AutoModel\n",
    "from torch.utils.data import DataLoader\n",
    "import pandas as pd\n",
    "import numpy as np\n",
    "import torch"
   ]
  },
  {
   "cell_type": "code",
   "execution_count": null,
   "metadata": {},
   "outputs": [],
   "source": [
    "# Load the dataset using pandas\n",
    "df = pd.read_csv('data/train_clean.csv')"
   ]
  },
  {
   "cell_type": "code",
   "execution_count": null,
   "metadata": {},
   "outputs": [],
   "source": [
    "# Split the dataset into comments and labels\n",
    "comments = df['comment'].tolist()\n",
    "labels = df['class'].tolist()"
   ]
  },
  {
   "cell_type": "code",
   "execution_count": null,
   "metadata": {},
   "outputs": [],
   "source": [
    "# Load the DarijaBERT tokenizer and model (It's over 900MB to download)\n",
    "tokenizer = AutoTokenizer.from_pretrained(\"SI2M-Lab/DarijaBERT\")\n",
    "model = AutoModel.from_pretrained(\"SI2M-Lab/DarijaBERT\")"
   ]
  },
  {
   "cell_type": "code",
   "execution_count": null,
   "metadata": {},
   "outputs": [],
   "source": [
    "# Enable GPU if available (for google colab)\n",
    "device = torch.device(\"cuda\" if torch.cuda.is_available() else \"cpu\")"
   ]
  },
  {
   "cell_type": "code",
   "execution_count": null,
   "metadata": {},
   "outputs": [],
   "source": [
    "# Set batch size and number of batches\n",
    "batch_size = 20\n",
    "num_sentences = len(comments)\n",
    "num_batches = (num_sentences + batch_size - 1) // batch_size\n",
    "\n",
    "# Create a DataLoader for efficient batch processing\n",
    "data_loader = DataLoader(comments, batch_size=batch_size, shuffle=False)\n",
    "\n",
    "embeddings_list = []\n",
    "\n",
    "# Process batches in parallel using multiple workers\n",
    "with torch.no_grad():\n",
    "    for batch_comments in data_loader:\n",
    "        encoded_inputs = tokenizer(batch_comments, padding=\"max_length\", max_length=128, truncation=True, return_tensors='pt').to(device)\n",
    "        model.to(device)\n",
    "        batch_embeddings = model(**encoded_inputs).last_hidden_state\n",
    "        embeddings_list.append(batch_embeddings)\n",
    "        print(f'Batch {len(embeddings_list)}/{num_batches} completed')\n",
    "\n",
    "# Concatenate the embeddings from all batches\n",
    "embeddings = torch.cat(embeddings_list, dim=0)"
   ]
  },
  {
   "cell_type": "code",
   "execution_count": null,
   "metadata": {},
   "outputs": [],
   "source": [
    "# save the embeddings for later use\n",
    "np.save(\"model/embeddings.npy\")"
   ]
  }
 ],
 "metadata": {
  "language_info": {
   "name": "python"
  }
 },
 "nbformat": 4,
 "nbformat_minor": 2
}
