{
 "cells": [
  {
   "cell_type": "code",
   "execution_count": null,
   "metadata": {},
   "outputs": [],
   "source": [
    "import googleapiclient.discovery\n",
    "from dotenv import load_dotenv\n",
    "import pandas as pd\n",
    "import os"
   ]
  },
  {
   "cell_type": "code",
   "execution_count": null,
   "metadata": {},
   "outputs": [],
   "source": [
    "# NOTE: You need a youtube v3 api key for this to work\n",
    "load_dotenv()\n",
    "API_KEY = os.getenv(\"API_KEY\")"
   ]
  },
  {
   "cell_type": "code",
   "execution_count": null,
   "metadata": {},
   "outputs": [],
   "source": [
    "# Load youtube api client\n",
    "youtube = googleapiclient.discovery.build(\"youtube\", \"v3\", developerKey=API_KEY)"
   ]
  },
  {
   "cell_type": "code",
   "execution_count": null,
   "metadata": {},
   "outputs": [],
   "source": [
    "# get comment by youtbe Id\n",
    "def getcomments(video):\n",
    "    request = youtube.commentThreads().list(\n",
    "        part=\"snippet\",\n",
    "        videoId=video,\n",
    "        maxResults=100\n",
    "    )\n",
    "\n",
    "    comments = []\n",
    "\n",
    "    # Execute the request.\n",
    "    response = request.execute()\n",
    "\n",
    "    # Get the comments from the response.\n",
    "    for item in response['items']:\n",
    "        comment = item['snippet']['topLevelComment']['snippet']\n",
    "        public = item['snippet']['isPublic']\n",
    "        comments.append([\n",
    "            comment['authorDisplayName'],\n",
    "            comment['publishedAt'],\n",
    "            comment['likeCount'],\n",
    "            comment['textOriginal'],\n",
    "            comment['videoId'],\n",
    "            public\n",
    "        ])\n",
    "\n",
    "    while (1 == 1):\n",
    "        try:\n",
    "            nextPageToken = response['nextPageToken']\n",
    "        except KeyError:\n",
    "            break\n",
    "        nextPageToken = response['nextPageToken']\n",
    "        # Create a new request object with the next page token.\n",
    "        nextRequest = youtube.commentThreads().list(part=\"snippet\", videoId=video, maxResults=100, pageToken=nextPageToken)\n",
    "        # Execute the next request.\n",
    "        response = nextRequest.execute()\n",
    "        # Get the comments from the next response.\n",
    "        for item in response['items']:\n",
    "            comment = item['snippet']['topLevelComment']['snippet']\n",
    "            public = item['snippet']['isPublic']\n",
    "            comments.append([\n",
    "                comment['authorDisplayName'],\n",
    "                comment['publishedAt'],\n",
    "                comment['likeCount'],\n",
    "                comment['textOriginal'],\n",
    "                comment['videoId'],\n",
    "                public\n",
    "            ])\n",
    "\n",
    "    df = pd.DataFrame(comments, columns=['author', 'updated_at', 'like_count', 'text','video_id','public'])\n",
    "    return df"
   ]
  },
  {
   "cell_type": "code",
   "execution_count": null,
   "metadata": {},
   "outputs": [],
   "source": [
    "videoID = \"BsdClG_V0Do\" # get id from a youtube url\n",
    "df = getcomments(videoID)"
   ]
  },
  {
   "cell_type": "code",
   "execution_count": null,
   "metadata": {},
   "outputs": [],
   "source": [
    "df.to_csv(f\"data/comments_{videoID}.csv\", index=False)"
   ]
  }
 ],
 "metadata": {
  "language_info": {
   "name": "python"
  }
 },
 "nbformat": 4,
 "nbformat_minor": 2
}
